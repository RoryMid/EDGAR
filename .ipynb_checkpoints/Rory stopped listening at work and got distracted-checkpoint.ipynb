{
 "cells": [
  {
   "cell_type": "code",
   "execution_count": 1,
   "metadata": {},
   "outputs": [],
   "source": [
    "import requests\n",
    "import os\n",
    "from bs4 import BeautifulSoup\n",
    "def write_page(url, file_path): \n",
    "    with open(file_path, 'w',  encoding='utf-8') as file:\n",
    "        response = requests.get(url)\n",
    "        soup = BeautifulSoup(response.text, 'lxml')\n",
    "        file.write(str(soup))"
   ]
  },
  {
   "cell_type": "code",
   "execution_count": 4,
   "metadata": {},
   "outputs": [],
   "source": [
    "def download_files_10k(ticker,dest_folder):\n",
    "    urls = ['https://www.sec.gov/Archives/edgar/data/0000320193/000032019321000056/aapl-20210327.htm',\n",
    "           'https://www.sec.gov/Archives/edgar/data/0000320193/000032019321000010/aapl-20201226.htm']\n",
    "    os.chdir(dest_folder)\n",
    "    '''\n",
    "    Insert selenium here to enter the ticket into the search bar of :\n",
    "    https://www.sec.gov/edgar/searchedgar/companysearch.html\n",
    "    Then click the buttons to get to html version of it. Append to urls '''\n",
    "    for url in urls: \n",
    "        write_page(url, f'{ticker}_10-k_{url[-12:-4]}.html')"
   ]
  },
  {
   "cell_type": "code",
   "execution_count": 5,
   "metadata": {},
   "outputs": [],
   "source": [
    "download_files_10k('AAPL', r\"C:\\Users\\RoryMiddleton\\Downloads\\TESTEROO\")"
   ]
  },
  {
   "cell_type": "code",
   "execution_count": 6,
   "metadata": {},
   "outputs": [],
   "source": [
    "from selenium import webdriver # conda install selenium\n",
    "from selenium.webdriver.common.keys import Keys\n",
    "\n",
    "import time"
   ]
  },
  {
   "cell_type": "code",
   "execution_count": 7,
   "metadata": {},
   "outputs": [],
   "source": [
    "driver = webdriver.Chrome()\n",
    "driver.get('https://www.sec.gov/edgar/searchedgar/companysearch.html')\n",
    "time.sleep(2)"
   ]
  },
  {
   "cell_type": "code",
   "execution_count": 8,
   "metadata": {},
   "outputs": [],
   "source": [
    "xpath_search = r'/html/body/div[2]/div/div/div/section/div[3]/div[2]/div[2]/div[3]/div/form/input[1]'\n",
    "driver.find_element_by_xpath(xpath_search).click()\n",
    "time.sleep(2)\n",
    "searchinput_path = r'/html/body/div[2]/div/div/div/section/div[3]/div[2]/div[2]/div[3]/div/form/input[1]'\n",
    "driver.find_element_by_xpath(searchinput_path).send_keys('AAPL', Keys.ENTER)\n",
    "time.sleep(5)\n",
    "xpath_search = r'/html/body/main/div[4]/div[2]/div[3]/h5'\n",
    "driver.find_element_by_xpath(xpath_search).click()\n",
    "time.sleep(5)\n",
    "xpath_search = r'/html/body/main/div[4]/div[2]/div[3]/div/button[1]'\n",
    "driver.find_element_by_xpath(xpath_search).click()\n",
    "time.sleep(5)\n",
    "xpath_search = r'/html/body/main/div[5]/div/div[1]/div[1]/div/input[2]'\n",
    "driver.find_element_by_xpath(xpath_search).click()\n",
    "time.sleep(2)\n",
    "searchinput_path = r'/html/body/main/div[5]/div/div[1]/div[1]/div/input[2]'\n",
    "driver.find_element_by_xpath(searchinput_path).send_keys('10-Q', Keys.ENTER)"
   ]
  }
 ],
 "metadata": {
  "kernelspec": {
   "display_name": "Python 3",
   "language": "python",
   "name": "python3"
  },
  "language_info": {
   "codemirror_mode": {
    "name": "ipython",
    "version": 3
   },
   "file_extension": ".py",
   "mimetype": "text/x-python",
   "name": "python",
   "nbconvert_exporter": "python",
   "pygments_lexer": "ipython3",
   "version": "3.8.5"
  }
 },
 "nbformat": 4,
 "nbformat_minor": 4
}
