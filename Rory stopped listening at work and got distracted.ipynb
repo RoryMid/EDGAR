{
 "cells": [
  {
   "cell_type": "code",
   "execution_count": 9,
   "metadata": {},
   "outputs": [],
   "source": [
    "import requests\n",
    "import os\n",
    "from bs4 import BeautifulSoup\n",
    "def write_page(url, file_path): \n",
    "    with open(file_path, 'w',  encoding='utf-8') as file:\n",
    "        response = requests.get(url)\n",
    "        soup = BeautifulSoup(response.text, 'lxml')\n",
    "        file.write(str(soup))"
   ]
  },
  {
   "cell_type": "code",
   "execution_count": 10,
   "metadata": {},
   "outputs": [],
   "source": [
    "def download_files_10k(ticker,dest_folder):\n",
    "    urls = ['https://www.sec.gov/Archives/edgar/data/0000320193/000032019321000056/aapl-20210327.htm',\n",
    "           'https://www.sec.gov/Archives/edgar/data/0000320193/000032019321000010/aapl-20201226.htm']\n",
    "    os.chdir(dest_folder)\n",
    "    '''\n",
    "    Insert selenium here to enter the ticket into the search bar of :\n",
    "    https://www.sec.gov/edgar/searchedgar/companysearch.html\n",
    "    Then click the buttons to get to html version of it. Append to urls '''\n",
    "    for url in urls: \n",
    "        write_page(url, f'{ticker}_10-k_{url[-12:-4]}.html')"
   ]
  },
  {
   "cell_type": "code",
   "execution_count": 11,
   "metadata": {},
   "outputs": [],
   "source": [
    "download_files_10k('AAPL', r\"C:\\Users\\RoryMiddleton\\Downloads\\TESTEROO\")"
   ]
  },
  {
   "cell_type": "code",
   "execution_count": 12,
   "metadata": {},
   "outputs": [],
   "source": [
    "from selenium import webdriver # conda install selenium\n",
    "from selenium.webdriver.common.keys import Keys\n",
    "\n",
    "import time"
   ]
  },
  {
   "cell_type": "code",
   "execution_count": 13,
   "metadata": {},
   "outputs": [],
   "source": [
    "driver = webdriver.Chrome()\n",
    "driver.get('https://www.sec.gov/edgar/searchedgar/companysearch.html')\n",
    "time.sleep(2)"
   ]
  },
  {
   "cell_type": "code",
   "execution_count": 14,
   "metadata": {},
   "outputs": [],
   "source": [
    "xpath_search = r'/html/body/div[2]/div/div/div/section/div[3]/div[2]/div[2]/div[3]/div/form/input[1]'\n",
    "driver.find_element_by_xpath(xpath_search).click()\n",
    "time.sleep(2)\n",
    "searchinput_path = r'/html/body/div[2]/div/div/div/section/div[3]/div[2]/div[2]/div[3]/div/form/input[1]'\n",
    "driver.find_element_by_xpath(searchinput_path).send_keys('AAPL', Keys.ENTER)\n",
    "time.sleep(5)\n",
    "xpath_search = r'/html/body/main/div[4]/div[2]/div[3]/h5'\n",
    "driver.find_element_by_xpath(xpath_search).click()\n",
    "time.sleep(5)\n",
    "xpath_search = r'/html/body/main/div[4]/div[2]/div[3]/div/button[1]'\n",
    "driver.find_element_by_xpath(xpath_search).click()\n",
    "time.sleep(5)\n",
    "xpath_search = r'/html/body/main/div[5]/div/div[1]/div[1]/div/input[2]'\n",
    "driver.find_element_by_xpath(xpath_search).click()\n",
    "time.sleep(2)\n",
    "searchinput_path = r'/html/body/main/div[5]/div/div[1]/div[1]/div/input[2]'\n",
    "driver.find_element_by_xpath(searchinput_path).send_keys('10-Q', Keys.ENTER)"
   ]
  },
  {
   "cell_type": "code",
   "execution_count": 22,
   "metadata": {},
   "outputs": [
    {
     "data": {
      "text/plain": [
       "{'https://www.sec.gov/ix?doc=/Archives/edgar/data/0000320193/000032019321000056/aapl-20210327.htm': '2021-03-27',\n",
       " 'https://www.sec.gov/ix?doc=/Archives/edgar/data/0000320193/000032019320000062/aapl-20200627.htm': '2020-06-27',\n",
       " 'https://www.sec.gov/ix?doc=/Archives/edgar/data/0000320193/000032019320000010/a10-qq1202012282019.htm': '2019-12-28',\n",
       " 'https://www.sec.gov/ix?doc=/Archives/edgar/data/0000320193/000032019319000066/a10-qq220193302019.htm': '2019-03-30',\n",
       " 'https://www.sec.gov/Archives/edgar/data/0000320193/000032019318000100/a10-qq320186302018.htm': '2018-06-30',\n",
       " 'https://www.sec.gov/Archives/edgar/data/0000320193/000032019318000007/a10-qq1201812302017.htm': '2017-12-30',\n",
       " 'https://www.sec.gov/Archives/edgar/data/0000320193/000162828017004790/a10-qq22017412017.htm': '2017-04-01',\n",
       " 'https://www.sec.gov/Archives/edgar/data/0000320193/000162828016017809/a10-qq320166252016.htm': '2016-06-25',\n",
       " 'https://www.sec.gov/Archives/edgar/data/0000320193/000119312516439878/d66145d10q.htm': '2015-12-26',\n",
       " 'https://www.sec.gov/Archives/edgar/data/0000320193/000119312515153166/d892246d10q.htm': '2015-03-28',\n",
       " 'https://www.sec.gov/Archives/edgar/data/0000320193/000119312514277160/d740164d10q.htm': '2014-06-28',\n",
       " 'https://www.sec.gov/Archives/edgar/data/0000320193/000119312514024487/d644622d10q.htm': '2013-12-28',\n",
       " 'https://www.sec.gov/Archives/edgar/data/0000320193/000119312513168288/d501596d10q.htm': '2013-03-30',\n",
       " 'https://www.sec.gov/Archives/edgar/data/0000320193/000119312512314552/d365704d10q.htm': '2012-06-30',\n",
       " 'https://www.sec.gov/Archives/edgar/data/0000320193/000119312512023398/d267587d10q.htm': '2011-12-31'}"
      ]
     },
     "execution_count": 22,
     "metadata": {},
     "output_type": "execute_result"
    }
   ],
   "source": [
    "'''\n",
    "Need to get this code into function\n",
    "'''\n",
    "\n",
    "list = {}\n",
    "for row in driver.find_elements_by_css_selector(\"tr.odd\"):\n",
    "    for cell in row.find_elements_by_class_name(\"document-link\"):\n",
    "        x = cell.get_attribute(\"href\")\n",
    "    y = row.find_elements_by_tag_name(\"td\")[3].text\n",
    "    list[x] = y\n",
    "\n",
    "list"
   ]
  },
  {
   "cell_type": "code",
   "execution_count": null,
   "metadata": {},
   "outputs": [],
   "source": []
  }
 ],
 "metadata": {
  "kernelspec": {
   "display_name": "Python 3",
   "language": "python",
   "name": "python3"
  },
  "language_info": {
   "codemirror_mode": {
    "name": "ipython",
    "version": 3
   },
   "file_extension": ".py",
   "mimetype": "text/x-python",
   "name": "python",
   "nbconvert_exporter": "python",
   "pygments_lexer": "ipython3",
   "version": "3.8.5"
  }
 },
 "nbformat": 4,
 "nbformat_minor": 4
}
