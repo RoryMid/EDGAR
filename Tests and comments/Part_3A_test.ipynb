{
 "cells": [
  {
   "cell_type": "code",
   "execution_count": 3,
   "metadata": {},
   "outputs": [],
   "source": [
    "def get_sp100():\n",
    "    '''\n",
    "    Scrapes wikipedia page to get tickers for the S&P100 companies. Returns list.\n",
    "    '''\n",
    "    import requests \n",
    "    import pandas as pd\n",
    "    from bs4 import BeautifulSoup as bs\n",
    "    url  = 'https://en.wikipedia.org/wiki/S%26P_100'\n",
    "    r = requests.get(url)\n",
    "    soup = bs(r.text, 'lxml')\n",
    "    table_soup = soup.find(\"table\",{\"class\":\"wikitable sortable\"})\n",
    "    tickers = []\n",
    "\n",
    "    row_soup = table_soup.find_all('tr')\n",
    "\n",
    "    for row in row_soup[1:]:      \n",
    "        td_soup = row.find_all('td')\n",
    "        tickers.append(td_soup[0].text.replace('\\n', '').replace('BRK.B','BRK-B'))\n",
    "    return tickers"
   ]
  },
  {
   "cell_type": "code",
   "execution_count": 5,
   "metadata": {},
   "outputs": [
    {
     "name": "stdout",
     "output_type": "stream",
     "text": [
      "['AAPL', 'ABBV', 'ABT', 'ACN', 'ADBE', 'AIG', 'AMGN', 'AMT', 'AMZN', 'AVGO', 'AXP', 'BA', 'BAC', 'BIIB', 'BK', 'BKNG', 'BLK', 'BMY', 'BRK-B', 'C', 'CAT', 'CHTR', 'CL', 'CMCSA', 'COF', 'COP', 'COST', 'CRM', 'CSCO', 'CVS', 'CVX', 'DD', 'DHR', 'DIS', 'DOW', 'DUK', 'EMR', 'EXC', 'F', 'FB', 'FDX', 'GD', 'GE', 'GILD', 'GM', 'GOOG', 'GOOGL', 'GS', 'HD', 'HON', 'IBM', 'INTC', 'JNJ', 'JPM', 'KHC', 'KO', 'LIN', 'LLY', 'LMT', 'LOW', 'MA', 'MCD', 'MDLZ', 'MDT', 'MET', 'MMM', 'MO', 'MRK', 'MS', 'MSFT', 'NEE', 'NFLX', 'NKE', 'NVDA', 'ORCL', 'PEP', 'PFE', 'PG', 'PM', 'PYPL', 'QCOM', 'RTX', 'SBUX', 'SO', 'SPG', 'T', 'TGT', 'TMO', 'TMUS', 'TSLA', 'TXN', 'UNH', 'UNP', 'UPS', 'USB', 'V', 'VZ', 'WBA', 'WFC', 'WMT', 'XOM']\n",
      "101\n"
     ]
    }
   ],
   "source": [
    "tickers_sp100 = get_sp100()\n",
    "print(tickers_sp100)\n",
    "print(len(tickers_sp100))"
   ]
  },
  {
   "cell_type": "markdown",
   "metadata": {},
   "source": [
    "The S&P 100, a subset of the S&P 500, includes 101 (because one of its component companies has 2 classes of stock) "
   ]
  }
 ],
 "metadata": {
  "kernelspec": {
   "display_name": "Python 3",
   "language": "python",
   "name": "python3"
  },
  "language_info": {
   "codemirror_mode": {
    "name": "ipython",
    "version": 3
   },
   "file_extension": ".py",
   "mimetype": "text/x-python",
   "name": "python",
   "nbconvert_exporter": "python",
   "pygments_lexer": "ipython3",
   "version": "3.8.5"
  }
 },
 "nbformat": 4,
 "nbformat_minor": 4
}
