{
 "cells": [
  {
   "cell_type": "code",
   "execution_count": 12,
   "metadata": {},
   "outputs": [],
   "source": [
    "import requests\n",
    "import os\n",
    "from bs4 import BeautifulSoup\n",
    "from selenium import webdriver\n",
    "from selenium.webdriver.common.keys import Keys\n",
    "import time"
   ]
  },
  {
   "cell_type": "code",
   "execution_count": 13,
   "metadata": {},
   "outputs": [],
   "source": [
    "def write_page(url, file_path): \n",
    "    with open(file_path, 'w',  encoding='utf-8') as file:\n",
    "        response = requests.get(url)\n",
    "        soup = BeautifulSoup(response.text, 'lxml')\n",
    "        file.write(str(soup))"
   ]
  },
  {
   "cell_type": "code",
   "execution_count": 14,
   "metadata": {},
   "outputs": [],
   "source": [
    "def selenium_activate(key):\n",
    "    driver = webdriver.Chrome()\n",
    "    print('loading up website')\n",
    "    driver.get('https://www.sec.gov/edgar/searchedgar/companysearch.html')\n",
    "    time.sleep(2)\n",
    "    xpath_search = r'/html/body/div[2]/div/div/div/section/div[3]/div[2]/div[2]/div[3]/div/form/input[1]'\n",
    "    driver.find_element_by_xpath(xpath_search).click()\n",
    "    time.sleep(2)\n",
    "    searchinput_path = r'/html/body/div[2]/div/div/div/section/div[3]/div[2]/div[2]/div[3]/div/form/input[1]'\n",
    "    driver.find_element_by_xpath(searchinput_path).send_keys(key, Keys.ENTER)\n",
    "    time.sleep(2)\n",
    "    xpath_search = r'/html/body/main/div[4]/div[2]/div[3]/h5'\n",
    "    driver.find_element_by_xpath(xpath_search).click()\n",
    "    time.sleep(2)\n",
    "    xpath_search = r'/html/body/main/div[4]/div[2]/div[3]/div/button[1]'\n",
    "    driver.find_element_by_xpath(xpath_search).click()\n",
    "    time.sleep(2)\n",
    "    xpath_search = r'/html/body/main/div[5]/div/div[1]/div[1]/div/input[2]'\n",
    "    driver.find_element_by_xpath(xpath_search).click()\n",
    "    time.sleep(2)\n",
    "    searchinput_path = r'/html/body/main/div[5]/div/div[1]/div[1]/div/input[2]'\n",
    "    driver.find_element_by_xpath(searchinput_path).send_keys('10-Q', Keys.ENTER)\n",
    "    print('getting urls')\n",
    "    urls = {}\n",
    "    #this bit needs sorting :) tried to make a function but didn't work\n",
    "    for row in driver.find_elements_by_css_selector(\"tr.odd\"):\n",
    "        for cell in row.find_elements_by_class_name(\"document-link\"):\n",
    "            x = cell.get_attribute(\"href\")\n",
    "        y = row.find_elements_by_tag_name(\"td\")[3].text\n",
    "        urls[x] = y\n",
    "    for row in driver.find_elements_by_css_selector(\"tr.even\"):\n",
    "        for cell in row.find_elements_by_class_name(\"document-link\"):\n",
    "            x = cell.get_attribute(\"href\")\n",
    "        y = row.find_elements_by_tag_name(\"td\")[3].text\n",
    "        urls[x] = y\n",
    "    print('urls gathered, chrome closing')\n",
    "    return urls"
   ]
  },
  {
   "cell_type": "code",
   "execution_count": 15,
   "metadata": {},
   "outputs": [],
   "source": [
    "def download_files_10k(ticker,dest_folder):\n",
    "    os.chdir(dest_folder)\n",
    "    urls = selenium_activate(ticker)\n",
    "    for key,value in urls.items(): \n",
    "        write_page(key, f'{ticker}_10-Q_{value}.html')\n",
    "    print('complete')"
   ]
  },
  {
   "cell_type": "code",
   "execution_count": 17,
   "metadata": {},
   "outputs": [
    {
     "name": "stdout",
     "output_type": "stream",
     "text": [
      "loading up website\n",
      "getting urls\n",
      "complete\n"
     ]
    }
   ],
   "source": [
    "download_files_10k('AAPL', r\"C:\\Users\\RoryMiddleton\\Downloads\\TESTEROO\")"
   ]
  },
  {
   "cell_type": "code",
   "execution_count": null,
   "metadata": {},
   "outputs": [],
   "source": [
    "'''\n",
    "I haven't done any checks like if all the files are there\n",
    "'''"
   ]
  }
 ],
 "metadata": {
  "kernelspec": {
   "display_name": "Python 3",
   "language": "python",
   "name": "python3"
  },
  "language_info": {
   "codemirror_mode": {
    "name": "ipython",
    "version": 3
   },
   "file_extension": ".py",
   "mimetype": "text/x-python",
   "name": "python",
   "nbconvert_exporter": "python",
   "pygments_lexer": "ipython3",
   "version": "3.8.5"
  }
 },
 "nbformat": 4,
 "nbformat_minor": 4
}
